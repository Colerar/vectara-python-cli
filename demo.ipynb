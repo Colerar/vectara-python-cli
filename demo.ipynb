{
 "cells": [
  {
   "cell_type": "markdown",
   "metadata": {},
   "source": [
    "# Demo of the unofficial Python SDK for [Vectara](https://vectara.com)'s RAG platform\n",
    "\n",
    "For questions, ask forrest@vectara.com "
   ]
  },
  {
   "cell_type": "code",
   "execution_count": 1,
   "metadata": {},
   "outputs": [],
   "source": [
    "import vectara"
   ]
  },
  {
   "cell_type": "code",
   "execution_count": 2,
   "metadata": {},
   "outputs": [
    {
     "name": "stdout",
     "output_type": "stream",
     "text": [
      "mkdir: cannot create directory ‘testdoc’: File exists\n",
      "2023-11-21 19:26:55 URL:https://www.cs.jhu.edu/~jason/papers/mei+al.icml20.pdf [2087657/2087657] -> \"testdoc/neural_datalog_through_time.pdf\" [1]\n",
      "2023-11-21 19:26:55 URL:https://docs.vectara.com/assets/files/vectara_employee_handbook-4524365135dc70a59977373c37601ad1.pdf [53575/53575] -> \"testdoc/vectara.pdf\" [1]\n",
      "2023-11-21 19:26:56 URL:https://raw.githubusercontent.com/TexteaInc/funix-doc/main/Reference.md [35949/35949] -> \"testdoc/funix.md\" [1]\n"
     ]
    }
   ],
   "source": [
    "# Get some test data \n",
    "!mkdir testdoc \n",
    "!wget https://www.cs.jhu.edu/~jason/papers/mei+al.icml20.pdf -O testdoc/neural_datalog_through_time.pdf -nv \n",
    "!wget https://docs.vectara.com/assets/files/vectara_employee_handbook-4524365135dc70a59977373c37601ad1.pdf -O testdoc/vectara.pdf -nv \n",
    "!wget https://raw.githubusercontent.com/TexteaInc/funix-doc/main/Reference.md -O testdoc/funix.md -nv \n",
    "!wget https://raw.githubusercontent.com/codepod-io/codepod.io/main/docs/3-manual/README.md -O codepod.md -nv\n",
    "# !wget https://raw.githubusercontent.com/tangxyw/RecSysPapers/main/Calibration/Posterior%20Probability%20Matters%20-%20Doubly-Adaptive%20Calibration%20for%20Neural%20Predictions%20in%20Online%20Advertising.pdf -O testdoc/Calibration.pdf\n"
   ]
  },
  {
   "cell_type": "markdown",
   "metadata": {},
   "source": [
    "# Create a client object \n",
    "\n",
    "By default, the constructor will look for the following environment variables:\n",
    "* VECTARA_CUSTOMER_ID\n",
    "* VECTARA_CLIENT_ID\n",
    "* VECTARA_CLIENT_SECRET"
   ]
  },
  {
   "cell_type": "code",
   "execution_count": 4,
   "metadata": {},
   "outputs": [
    {
     "name": "stdout",
     "output_type": "stream",
     "text": [
      "Bearer/JWT token generated. It will expire in 30 minutes. To-regenerate, please call acquire_jwt_token(). \n"
     ]
    }
   ],
   "source": [
    "# client = vectara.vectara() # default to credentials in environment variables\n",
    "\n",
    "## OR import from a python file called keys.py\n",
    "from keys import VECTARA_CUSTOMER_ID, VECTARA_CLIENT_ID, VECTARA_CLIENT_SECRET\n",
    "client = vectara.vectara(VECTARA_CUSTOMER_ID, VECTARA_CLIENT_ID, VECTARA_CLIENT_SECRET)"
   ]
  },
  {
   "cell_type": "markdown",
   "metadata": {},
   "source": [
    "# Create a corpus"
   ]
  },
  {
   "cell_type": "code",
   "execution_count": 4,
   "metadata": {},
   "outputs": [],
   "source": [
    "corpus_id = client.create_corpus(\"test_corpus\") "
   ]
  },
  {
   "cell_type": "markdown",
   "metadata": {},
   "source": [
    "# Reset Corpus (when needed)"
   ]
  },
  {
   "cell_type": "code",
   "execution_count": 5,
   "metadata": {},
   "outputs": [
    {
     "name": "stdout",
     "output_type": "stream",
     "text": [
      "Resetting corpus 9 successful. \n"
     ]
    }
   ],
   "source": [
    "corpus_id = 9 # manual set here \n",
    "client.reset_corpus(corpus_id)"
   ]
  },
  {
   "cell_type": "markdown",
   "metadata": {},
   "source": [
    "# Add files to a corpus\n",
    "\n",
    "You can use the `upload()` method to upload a file, a list of files, or a folder to a corpus. The `upload()` method automatically detects the type of file source to switch between the three methods below.\n",
    "* `upload_file()`: upload a single file\n",
    "* `upload_files()`: upload a list of files\n",
    "* `upload_folder()`: upload all files in a folder\n",
    "\n",
    "Of course, if you are very sure about what you are doing, you can also use the three methods above directly."
   ]
  },
  {
   "cell_type": "code",
   "execution_count": 6,
   "metadata": {},
   "outputs": [
    {
     "name": "stdout",
     "output_type": "stream",
     "text": [
      "Uploading files from folder: ./testdoc\n"
     ]
    },
    {
     "name": "stderr",
     "output_type": "stream",
     "text": [
      "Uploading...:   0%|          | 0/3 [00:00<?, ?it/s, ./testdoc/neural_datalog_through_time.pdf]"
     ]
    },
    {
     "name": "stdout",
     "output_type": "stream",
     "text": [
      "Uploading..../testdoc/neural_datalog_through_time.pdf "
     ]
    },
    {
     "name": "stderr",
     "output_type": "stream",
     "text": [
      "Uploading...:  33%|███▎      | 1/3 [00:11<00:22, 11.32s/it, ./testdoc/funix.md]                       "
     ]
    },
    {
     "name": "stdout",
     "output_type": "stream",
     "text": [
      "Success. \n",
      "Uploading..../testdoc/funix.md "
     ]
    },
    {
     "name": "stderr",
     "output_type": "stream",
     "text": [
      "Uploading...:  67%|██████▋   | 2/3 [00:13<00:05,  5.98s/it, ./testdoc/vectara.pdf]"
     ]
    },
    {
     "name": "stdout",
     "output_type": "stream",
     "text": [
      "Success. \n",
      "Uploading..../testdoc/vectara.pdf "
     ]
    },
    {
     "name": "stderr",
     "output_type": "stream",
     "text": [
      "Uploading...: 100%|██████████| 3/3 [00:16<00:00,  5.34s/it, ./testdoc/vectara.pdf]"
     ]
    },
    {
     "name": "stdout",
     "output_type": "stream",
     "text": [
      "Success. \n"
     ]
    },
    {
     "name": "stderr",
     "output_type": "stream",
     "text": [
      "\n"
     ]
    }
   ],
   "source": [
    "corpus_id = 9 # manually set corpus_id if needed. \n",
    "client.upload(corpus_id, './testdoc', verbose=True)"
   ]
  },
  {
   "cell_type": "markdown",
   "metadata": {},
   "source": [
    "# Query to a corpus and beautifully display the results"
   ]
  },
  {
   "cell_type": "markdown",
   "metadata": {},
   "source": [
    "## Example query 1"
   ]
  },
  {
   "cell_type": "code",
   "execution_count": 9,
   "metadata": {},
   "outputs": [
    {
     "name": "stdout",
     "output_type": "stream",
     "text": [
      "Query successful. \n"
     ]
    },
    {
     "data": {
      "text/markdown": [
       "### Here is the answer\n",
       "To rearrange objects, you can follow these steps: [1] Recompute the embeddings of the objects in parallel for a certain number of iterations. [2] Within each strongly connected component, initialize the embeddings to 0 and then recompute them in parallel for that component. [3] Change the order and orientation of the objects using the \"direction\" attribute in a Funix decorator. [4] Consider using embeddings of entities and relations that reflect selected past events. [5] Visit the components in topologically sorted order to ensure that you work on each component after its upstream nodes have converged.\n",
       "\n",
       "### References:\n",
       "    \n",
       "1. From document **neural_datalog_through_time.pdf** (matchness=0.65684634):\n",
       "  _...This method recomputes all embeddings in parallel,\n",
       "and repeats this for some number of iterations...._\n",
       "\n",
       "2. From document **neural_datalog_through_time.pdf** (matchness=0.6553048):\n",
       "  _...Within each strongly connected component C, ini-\n",
       "tialize the embeddings to 0 and then recompute them in\n",
       "parallel for |C| iterations...._\n",
       "\n",
       "3. From document **funix.md** (matchness=0.65107906):\n",
       "  _...You can change their order and orientation using the \"direction\" attribute in a Funix decorator...._\n",
       "\n",
       "4. From document **neural_datalog_through_time.pdf** (matchness=0.6380951):\n",
       "  _...® Embeddings of entities and relations\n",
       "that reﬂect selected past events (§2.4 and §2.6)...._\n",
       "\n",
       "5. From document **neural_datalog_through_time.pdf** (matchness=0.6360733):\n",
       "  _...In the general case, visiting the com-\n",
       "ponents in topologically sorted order means that we wait to\n",
       "work on component C until its strictly upstream nodes have\n",
       "“converged,” so that the limited iterations on C make use of\n",
       "the best available embeddings of the upstream nodes...._\n"
      ]
     },
     "metadata": {},
     "output_type": "display_data"
    }
   ],
   "source": [
    "answer = client.query(corpus_id, \"What should I do to rearrange objects?\")\n",
    "_ = vectara.post_process_query_result(answer, jupyter_display=True)"
   ]
  },
  {
   "cell_type": "markdown",
   "metadata": {},
   "source": [
    "## Example query 2"
   ]
  },
  {
   "cell_type": "code",
   "execution_count": 25,
   "metadata": {},
   "outputs": [
    {
     "name": "stdout",
     "output_type": "stream",
     "text": [
      "Query successful. \n"
     ]
    }
   ],
   "source": [
    "answer = client.query(corpus_id, \"Can I bring friends to the office?\")\n",
    "_ = vectara.post_process_query_result(answer, jupyter_display=True, format='Markdown')"
   ]
  },
  {
   "cell_type": "markdown",
   "metadata": {},
   "source": [
    "## Example query 3"
   ]
  },
  {
   "cell_type": "code",
   "execution_count": 24,
   "metadata": {},
   "outputs": [
    {
     "name": "stdout",
     "output_type": "stream",
     "text": [
      "Query successful. \n"
     ]
    }
   ],
   "source": [
    "answer = client.query(corpus_id, \"How to set the frequency?\")\n",
    "_ = vectara.post_process_query_result(answer, jupyter_display=True, format='Markdown')"
   ]
  },
  {
   "cell_type": "code",
   "execution_count": null,
   "metadata": {},
   "outputs": [],
   "source": []
  }
 ],
 "metadata": {
  "kernelspec": {
   "display_name": "Python 3",
   "language": "python",
   "name": "python3"
  },
  "language_info": {
   "codemirror_mode": {
    "name": "ipython",
    "version": 3
   },
   "file_extension": ".py",
   "mimetype": "text/x-python",
   "name": "python",
   "nbconvert_exporter": "python",
   "pygments_lexer": "ipython3",
   "version": "3.10.12"
  }
 },
 "nbformat": 4,
 "nbformat_minor": 2
}
